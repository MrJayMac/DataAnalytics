{
 "cells": [
  {
   "cell_type": "code",
   "execution_count": 4,
   "metadata": {},
   "outputs": [
    {
     "name": "stdout",
     "output_type": "stream",
     "text": [
      "Requirement already satisfied: pandas in c:\\users\\joshu\\appdata\\local\\programs\\python\\python311\\lib\\site-packages (2.2.0)\n",
      "Requirement already satisfied: numpy<2,>=1.23.2 in c:\\users\\joshu\\appdata\\local\\programs\\python\\python311\\lib\\site-packages (from pandas) (1.26.1)\n",
      "Requirement already satisfied: python-dateutil>=2.8.2 in c:\\users\\joshu\\appdata\\local\\programs\\python\\python311\\lib\\site-packages (from pandas) (2.8.2)\n",
      "Requirement already satisfied: pytz>=2020.1 in c:\\users\\joshu\\appdata\\local\\programs\\python\\python311\\lib\\site-packages (from pandas) (2023.3.post1)\n",
      "Requirement already satisfied: tzdata>=2022.7 in c:\\users\\joshu\\appdata\\local\\programs\\python\\python311\\lib\\site-packages (from pandas) (2023.4)\n",
      "Requirement already satisfied: six>=1.5 in c:\\users\\joshu\\appdata\\local\\programs\\python\\python311\\lib\\site-packages (from python-dateutil>=2.8.2->pandas) (1.16.0)\n"
     ]
    },
    {
     "name": "stderr",
     "output_type": "stream",
     "text": [
      "\n",
      "[notice] A new release of pip available: 22.3 -> 23.3.2\n",
      "[notice] To update, run: python.exe -m pip install --upgrade pip\n"
     ]
    },
    {
     "name": "stdout",
     "output_type": "stream",
     "text": [
      "Requirement already satisfied: openpyxl in c:\\users\\joshu\\appdata\\local\\programs\\python\\python311\\lib\\site-packages (3.1.2)\n",
      "Requirement already satisfied: et-xmlfile in c:\\users\\joshu\\appdata\\local\\programs\\python\\python311\\lib\\site-packages (from openpyxl) (1.1.0)\n"
     ]
    },
    {
     "name": "stderr",
     "output_type": "stream",
     "text": [
      "\n",
      "[notice] A new release of pip available: 22.3 -> 23.3.2\n",
      "[notice] To update, run: python.exe -m pip install --upgrade pip\n"
     ]
    },
    {
     "name": "stdout",
     "output_type": "stream",
     "text": [
      "Collecting scipy\n",
      "  Downloading scipy-1.12.0-cp311-cp311-win_amd64.whl (46.2 MB)\n",
      "     ---------------------------------------- 46.2/46.2 MB 4.0 MB/s eta 0:00:00\n",
      "Requirement already satisfied: numpy<1.29.0,>=1.22.4 in c:\\users\\joshu\\appdata\\local\\programs\\python\\python311\\lib\\site-packages (from scipy) (1.26.1)\n",
      "Installing collected packages: scipy\n",
      "Successfully installed scipy-1.12.0\n"
     ]
    },
    {
     "name": "stderr",
     "output_type": "stream",
     "text": [
      "\n",
      "[notice] A new release of pip available: 22.3 -> 23.3.2\n",
      "[notice] To update, run: python.exe -m pip install --upgrade pip\n"
     ]
    }
   ],
   "source": [
    "!pip install pandas\n",
    "!pip install openpyxl\n",
    "!pip install scipy"
   ]
  },
  {
   "cell_type": "code",
   "execution_count": 30,
   "metadata": {},
   "outputs": [],
   "source": [
    "import pandas as pd\n",
    "import os\n",
    "\n",
    "excel_files = os.path.join(os.getcwd(), 'data')\n",
    "combined_df = pd.DataFrame()\n",
    "\n",
    "for file_name in os.listdir(excel_files):\n",
    "    if file_name.endswith('.xlsx'):\n",
    "        file_path = os.path.join(excel_files, file_name)\n",
    "\n",
    "        df_borough = pd.read_excel(file_path, header=None, skiprows=7)\n",
    "        df_borough.columns = [\n",
    "            \"BOROUGH\", \"NEIGHBORHOOD\", \"BUILDING CLASS CATEGORY\", \"TAX CLASS AT PRESENT\", \"BLOCK\", \n",
    "            \"LOT\", \"EASEMENT\", \"BUILDING CLASS AT PRESENT\", \"ADDRESS\", \"APARTMENT NUMBER\", \n",
    "            \"ZIP CODE\", \"RESIDENTIAL UNITS\", \"COMMERCIAL UNITS\", \"TOTAL UNITS\", \"LAND SQUARE FEET\", \n",
    "            \"GROSS SQUARE FEET\", \"YEAR BUILT\", \"TAX CLASS AT TIME OF SALE\", \n",
    "            \"BUILDING CLASS AT TIME OF SALE\", \"SALE PRICE\", \"SALE DATE\"\n",
    "        ]\n",
    "\n",
    "        year = int(file_name.split('_')[0])\n",
    "        df_borough['Year'] = year\n",
    "        combined_df = pd.concat([combined_df, df_borough], ignore_index=True)\n",
    "\n",
    "combined_df.to_csv('combined_sales.csv', index=False)"
   ]
  },
  {
   "cell_type": "code",
   "execution_count": 33,
   "metadata": {},
   "outputs": [
    {
     "name": "stdout",
     "output_type": "stream",
     "text": [
      "\n",
      "Statistics of House Prices for Each Borough:\n",
      "                count          mean           std  min       25%       50%  \\\n",
      "BOROUGH Year                                                                 \n",
      "1.0     2021  22756.0  3.021417e+06  1.566200e+07  0.0  462000.0  965000.0   \n",
      "        2022  21787.0  3.293709e+06  2.267137e+07  0.0  410000.0  937500.0   \n",
      "        2023  16269.0  2.805843e+06  1.325977e+07  0.0  365000.0  930000.0   \n",
      "2.0     2021   7692.0  8.173122e+05  3.377169e+06  0.0       0.0  350000.0   \n",
      "        2022   7300.0  8.793488e+05  3.857280e+06  0.0       0.0  360718.0   \n",
      "        2023   5604.0  7.998377e+05  3.836253e+06  0.0       0.0  280000.0   \n",
      "3.0     2021  28965.0  1.244181e+06  4.581395e+06  0.0       0.0  640000.0   \n",
      "        2022  26855.0  1.267161e+06  5.429963e+06  0.0       0.0  635000.0   \n",
      "        2023  20304.0  1.064308e+06  4.216937e+06  0.0       0.0  498232.5   \n",
      "4.0     2021  29812.0  7.225875e+05  3.080978e+06  0.0       0.0  411323.0   \n",
      "        2022  28840.0  1.357098e+06  1.050302e+07  0.0       0.0  411173.5   \n",
      "        2023  22896.0  7.279627e+05  3.401910e+06  0.0       0.0  352000.0   \n",
      "5.0     2021   9865.0  5.923492e+05  1.556194e+06  0.0       0.0  499999.0   \n",
      "        2022   8645.0  5.511288e+05  1.400953e+06  0.0       0.0  511161.0   \n",
      "        2023   6750.0  4.511293e+05  8.176507e+05  0.0       0.0  418500.0   \n",
      "\n",
      "                    75%           max  \n",
      "BOROUGH Year                           \n",
      "1.0     2021  2137500.0  1.033000e+09  \n",
      "        2022  2200000.0  9.310000e+08  \n",
      "        2023  2200000.0  5.981558e+08  \n",
      "2.0     2021   700000.0  1.190000e+08  \n",
      "        2022   750000.0  1.073571e+08  \n",
      "        2023   710000.0  1.037419e+08  \n",
      "3.0     2021  1200000.0  2.567950e+08  \n",
      "        2022  1272110.5  2.284476e+08  \n",
      "        2023  1150000.0  3.177926e+08  \n",
      "4.0     2021   805000.0  1.320000e+08  \n",
      "        2022   849000.0  1.760000e+08  \n",
      "        2023   800000.0  3.177926e+08  \n",
      "5.0     2021   680000.0  5.870000e+07  \n",
      "        2022   725000.0  5.700000e+07  \n",
      "        2023   690000.0  4.200000e+07  \n"
     ]
    }
   ],
   "source": [
    "#3) Q1 House price of each borough\n",
    "combined_df = pd.read_csv('combined_sales.csv')\n",
    "combined_df['SALE PRICE'] = pd.to_numeric(combined_df['SALE PRICE'], errors='coerce')\n",
    "borough_stats = combined_df.groupby(['BOROUGH', 'Year'])['SALE PRICE'].describe()\n",
    "\n",
    "print(\"\\nStatistics of House Prices for Each Borough:\")\n",
    "print(borough_stats)\n"
   ]
  },
  {
   "cell_type": "code",
   "execution_count": 37,
   "metadata": {},
   "outputs": [
    {
     "name": "stdout",
     "output_type": "stream",
     "text": [
      "Types of Houses Involved in the Dataset:\n",
      "nan\n",
      "01 ONE FAMILY DWELLINGS\n",
      "02 TWO FAMILY DWELLINGS\n",
      "03 THREE FAMILY DWELLINGS\n",
      "05 TAX CLASS 1 VACANT LAND\n",
      "08 RENTALS - ELEVATOR APARTMENTS\n",
      "10 COOPS - ELEVATOR APARTMENTS\n",
      "21 OFFICE BUILDINGS\n",
      "22 STORE BUILDINGS\n",
      "26 OTHER HOTELS\n",
      "27 FACTORIES\n",
      "29 COMMERCIAL GARAGES\n",
      "30 WAREHOUSES\n",
      "31 COMMERCIAL VACANT LAND\n",
      "41 TAX CLASS 4 - OTHER\n",
      "04 TAX CLASS 1 CONDOS\n",
      "06 TAX CLASS 1 - OTHER\n",
      "07 RENTALS - WALKUP APARTMENTS\n",
      "14 RENTALS - 4-10 UNIT\n",
      "39 TRANSPORTATION FACILITIES\n",
      "09 COOPS - WALKUP APARTMENTS\n",
      "12 CONDOS - WALKUP APARTMENTS\n",
      "43 CONDO OFFICE BUILDINGS\n",
      "13 CONDOS - ELEVATOR APARTMENTS\n",
      "32 HOSPITAL AND HEALTH FACILITIES\n",
      "37 RELIGIOUS FACILITIES\n",
      "38 ASYLUMS AND HOMES\n",
      "46 CONDO STORE BUILDINGS\n",
      "28 COMMERCIAL CONDOS\n",
      "36 OUTDOOR RECREATIONAL FACILITIES\n",
      "35 INDOOR PUBLIC AND CULTURAL FACILITIES\n",
      "42 CONDO CULTURAL/MEDICAL/EDUCATIONAL/ETC\n",
      "33 EDUCATIONAL FACILITIES\n",
      "44 CONDO PARKING\n",
      "17 CONDO COOPS\n",
      "47 CONDO NON-BUSINESS STORAGE\n",
      "11 SPECIAL CONDO BILLING LOTS\n",
      "15 CONDOS - 2-10 UNIT RESIDENTIAL\n",
      "16 CONDOS - 2-10 UNIT WITH COMMERCIAL UNIT\n",
      "48 CONDO TERRACES/GARDENS/CABANAS\n",
      "45 CONDO HOTELS\n",
      "25 LUXURY HOTELS\n",
      "34 THEATRES\n",
      "49 CONDO WAREHOUSES/FACTORY/INDUS\n",
      "40 SELECTED GOVERNMENTAL FACILITIES\n"
     ]
    }
   ],
   "source": [
    "#3) Q1 Types of houses involved in the dataset\n",
    "house_types = combined_df['BUILDING CLASS CATEGORY'].unique()\n",
    "\n",
    "print(\"Types of Houses Involved in the Dataset:\")\n",
    "for house_type in house_types:\n",
    "    print(house_type)"
   ]
  },
  {
   "cell_type": "code",
   "execution_count": 36,
   "metadata": {},
   "outputs": [
    {
     "name": "stdout",
     "output_type": "stream",
     "text": [
      "Missing Values in the Combined Dataset:\n",
      "BOROUGH                               10\n",
      "NEIGHBORHOOD                          10\n",
      "BUILDING CLASS CATEGORY               10\n",
      "TAX CLASS AT PRESENT                 357\n",
      "BLOCK                                 10\n",
      "LOT                                   10\n",
      "EASEMENT                          264350\n",
      "BUILDING CLASS AT PRESENT            357\n",
      "ADDRESS                               10\n",
      "APARTMENT NUMBER                  198893\n",
      "ZIP CODE                              27\n",
      "RESIDENTIAL UNITS                  64191\n",
      "COMMERCIAL UNITS                  113754\n",
      "TOTAL UNITS                        55937\n",
      "LAND SQUARE FEET                  122008\n",
      "GROSS SQUARE FEET                 122008\n",
      "YEAR BUILT                         18017\n",
      "TAX CLASS AT TIME OF SALE             10\n",
      "BUILDING CLASS AT TIME OF SALE        10\n",
      "SALE PRICE                            10\n",
      "SALE DATE                             10\n",
      "Year                                   0\n",
      "dtype: int64\n"
     ]
    }
   ],
   "source": [
    "#3) Q1 Missing values in provided dataset\n",
    "missing_values = combined_df.isnull().sum()\n",
    "\n",
    "print(\"Missing Values in the Combined Dataset:\")\n",
    "print(missing_values)\n"
   ]
  },
  {
   "cell_type": "code",
   "execution_count": 11,
   "metadata": {},
   "outputs": [
    {
     "name": "stdout",
     "output_type": "stream",
     "text": [
      "Index(['BROOKLYN ANNUALIZE SALE FOR 2018.  (All Sales From  January 1, 2018 - December 31, 2018)',\n",
      "       'Unnamed: 1', 'Unnamed: 2', 'Unnamed: 3', 'Unnamed: 4', 'Unnamed: 5',\n",
      "       'Unnamed: 6', 'Unnamed: 7', 'Unnamed: 8', 'Unnamed: 9', 'Unnamed: 10',\n",
      "       'Unnamed: 11', 'Unnamed: 12', 'Unnamed: 13', 'Unnamed: 14',\n",
      "       'Unnamed: 15', 'Unnamed: 16', 'Unnamed: 17', 'Unnamed: 18',\n",
      "       'Unnamed: 19', 'Unnamed: 20'],\n",
      "      dtype='object')\n"
     ]
    },
    {
     "ename": "KeyError",
     "evalue": "'SALE DATE'",
     "output_type": "error",
     "traceback": [
      "\u001b[1;31m---------------------------------------------------------------------------\u001b[0m",
      "\u001b[1;31mKeyError\u001b[0m                                  Traceback (most recent call last)",
      "File \u001b[1;32mc:\\Users\\joshu\\AppData\\Local\\Programs\\Python\\Python311\\Lib\\site-packages\\pandas\\core\\indexes\\base.py:3802\u001b[0m, in \u001b[0;36mIndex.get_loc\u001b[1;34m(self, key)\u001b[0m\n\u001b[0;32m   3801\u001b[0m \u001b[38;5;28;01mtry\u001b[39;00m:\n\u001b[1;32m-> 3802\u001b[0m     \u001b[38;5;28;01mreturn\u001b[39;00m \u001b[38;5;28;43mself\u001b[39;49m\u001b[38;5;241;43m.\u001b[39;49m\u001b[43m_engine\u001b[49m\u001b[38;5;241;43m.\u001b[39;49m\u001b[43mget_loc\u001b[49m\u001b[43m(\u001b[49m\u001b[43mcasted_key\u001b[49m\u001b[43m)\u001b[49m\n\u001b[0;32m   3803\u001b[0m \u001b[38;5;28;01mexcept\u001b[39;00m \u001b[38;5;167;01mKeyError\u001b[39;00m \u001b[38;5;28;01mas\u001b[39;00m err:\n",
      "File \u001b[1;32mindex.pyx:153\u001b[0m, in \u001b[0;36mpandas._libs.index.IndexEngine.get_loc\u001b[1;34m()\u001b[0m\n",
      "File \u001b[1;32mindex.pyx:182\u001b[0m, in \u001b[0;36mpandas._libs.index.IndexEngine.get_loc\u001b[1;34m()\u001b[0m\n",
      "File \u001b[1;32mpandas\\\\_libs\\\\hashtable_class_helper.pxi:7081\u001b[0m, in \u001b[0;36mpandas._libs.hashtable.PyObjectHashTable.get_item\u001b[1;34m()\u001b[0m\n",
      "File \u001b[1;32mpandas\\\\_libs\\\\hashtable_class_helper.pxi:7089\u001b[0m, in \u001b[0;36mpandas._libs.hashtable.PyObjectHashTable.get_item\u001b[1;34m()\u001b[0m\n",
      "\u001b[1;31mKeyError\u001b[0m: 'SALE DATE'",
      "\nThe above exception was the direct cause of the following exception:\n",
      "\u001b[1;31mKeyError\u001b[0m                                  Traceback (most recent call last)",
      "Cell \u001b[1;32mIn[11], line 29\u001b[0m\n\u001b[0;32m     25\u001b[0m manhattan_data_post \u001b[38;5;241m=\u001b[39m combined_df[combined_df[\u001b[38;5;124m'\u001b[39m\u001b[38;5;124mBOROUGH\u001b[39m\u001b[38;5;124m'\u001b[39m] \u001b[38;5;241m==\u001b[39m \u001b[38;5;241m1\u001b[39m]\n\u001b[0;32m     27\u001b[0m covid_start_date \u001b[38;5;241m=\u001b[39m pd\u001b[38;5;241m.\u001b[39mto_datetime(\u001b[38;5;124m'\u001b[39m\u001b[38;5;124m2021-01-01\u001b[39m\u001b[38;5;124m'\u001b[39m)\n\u001b[1;32m---> 29\u001b[0m brooklyn_pre \u001b[38;5;241m=\u001b[39m brooklyn_data_pre[\u001b[43mbrooklyn_data_pre\u001b[49m\u001b[43m[\u001b[49m\u001b[38;5;124;43m'\u001b[39;49m\u001b[38;5;124;43mSALE DATE\u001b[39;49m\u001b[38;5;124;43m'\u001b[39;49m\u001b[43m]\u001b[49m \u001b[38;5;241m<\u001b[39m covid_start_date]\n\u001b[0;32m     30\u001b[0m manhattan_pre \u001b[38;5;241m=\u001b[39m manhattan_data_pre[manhattan_data_pre[\u001b[38;5;124m'\u001b[39m\u001b[38;5;124mSALE DATE\u001b[39m\u001b[38;5;124m'\u001b[39m] \u001b[38;5;241m<\u001b[39m covid_start_date]\n\u001b[0;32m     32\u001b[0m brooklyn_post \u001b[38;5;241m=\u001b[39m brooklyn_data_post[brooklyn_data_post[\u001b[38;5;124m'\u001b[39m\u001b[38;5;124mSALE DATE\u001b[39m\u001b[38;5;124m'\u001b[39m] \u001b[38;5;241m>\u001b[39m\u001b[38;5;241m=\u001b[39m covid_start_date]\n",
      "File \u001b[1;32mc:\\Users\\joshu\\AppData\\Local\\Programs\\Python\\Python311\\Lib\\site-packages\\pandas\\core\\frame.py:4090\u001b[0m, in \u001b[0;36mDataFrame.__getitem__\u001b[1;34m(self, key)\u001b[0m\n\u001b[0;32m   4088\u001b[0m \u001b[38;5;28;01mif\u001b[39;00m \u001b[38;5;28mself\u001b[39m\u001b[38;5;241m.\u001b[39mcolumns\u001b[38;5;241m.\u001b[39mnlevels \u001b[38;5;241m>\u001b[39m \u001b[38;5;241m1\u001b[39m:\n\u001b[0;32m   4089\u001b[0m     \u001b[38;5;28;01mreturn\u001b[39;00m \u001b[38;5;28mself\u001b[39m\u001b[38;5;241m.\u001b[39m_getitem_multilevel(key)\n\u001b[1;32m-> 4090\u001b[0m indexer \u001b[38;5;241m=\u001b[39m \u001b[38;5;28;43mself\u001b[39;49m\u001b[38;5;241;43m.\u001b[39;49m\u001b[43mcolumns\u001b[49m\u001b[38;5;241;43m.\u001b[39;49m\u001b[43mget_loc\u001b[49m\u001b[43m(\u001b[49m\u001b[43mkey\u001b[49m\u001b[43m)\u001b[49m\n\u001b[0;32m   4091\u001b[0m \u001b[38;5;28;01mif\u001b[39;00m is_integer(indexer):\n\u001b[0;32m   4092\u001b[0m     indexer \u001b[38;5;241m=\u001b[39m [indexer]\n",
      "File \u001b[1;32mc:\\Users\\joshu\\AppData\\Local\\Programs\\Python\\Python311\\Lib\\site-packages\\pandas\\core\\indexes\\base.py:3809\u001b[0m, in \u001b[0;36mIndex.get_loc\u001b[1;34m(self, key)\u001b[0m\n\u001b[0;32m   3804\u001b[0m     \u001b[38;5;28;01mif\u001b[39;00m \u001b[38;5;28misinstance\u001b[39m(casted_key, \u001b[38;5;28mslice\u001b[39m) \u001b[38;5;129;01mor\u001b[39;00m (\n\u001b[0;32m   3805\u001b[0m         \u001b[38;5;28misinstance\u001b[39m(casted_key, abc\u001b[38;5;241m.\u001b[39mIterable)\n\u001b[0;32m   3806\u001b[0m         \u001b[38;5;129;01mand\u001b[39;00m \u001b[38;5;28many\u001b[39m(\u001b[38;5;28misinstance\u001b[39m(x, \u001b[38;5;28mslice\u001b[39m) \u001b[38;5;28;01mfor\u001b[39;00m x \u001b[38;5;129;01min\u001b[39;00m casted_key)\n\u001b[0;32m   3807\u001b[0m     ):\n\u001b[0;32m   3808\u001b[0m         \u001b[38;5;28;01mraise\u001b[39;00m InvalidIndexError(key)\n\u001b[1;32m-> 3809\u001b[0m     \u001b[38;5;28;01mraise\u001b[39;00m \u001b[38;5;167;01mKeyError\u001b[39;00m(key) \u001b[38;5;28;01mfrom\u001b[39;00m \u001b[38;5;21;01merr\u001b[39;00m\n\u001b[0;32m   3810\u001b[0m \u001b[38;5;28;01mexcept\u001b[39;00m \u001b[38;5;167;01mTypeError\u001b[39;00m:\n\u001b[0;32m   3811\u001b[0m     \u001b[38;5;66;03m# If we have a listlike key, _check_indexing_error will raise\u001b[39;00m\n\u001b[0;32m   3812\u001b[0m     \u001b[38;5;66;03m#  InvalidIndexError. Otherwise we fall through and re-raise\u001b[39;00m\n\u001b[0;32m   3813\u001b[0m     \u001b[38;5;66;03m#  the TypeError.\u001b[39;00m\n\u001b[0;32m   3814\u001b[0m     \u001b[38;5;28mself\u001b[39m\u001b[38;5;241m.\u001b[39m_check_indexing_error(key)\n",
      "\u001b[1;31mKeyError\u001b[0m: 'SALE DATE'"
     ]
    }
   ],
   "source": [
    "#3) Q2 Post COVID-19 Question 1\n",
    "\"\"\"\n",
    "Question: Are there significant differences in average house prices between the two boroughs before and after the COVID-19?\n",
    "\n",
    "Why This Question: Due to COVID-19, there has been a lot of changes to the world especially house prices. By understanding if the changes are significant, we are provided more insight\n",
    "                   that helps us decide whether we need to make adjustments\n",
    "\n",
    "Null Hypothesis, H0: There is no significant change in average house prices between the selected boroughs before and after COVID-19\n",
    "Alternative Hypothesis, H1: There is a significant change in average house prices between the selected boroughs before and after COVID-19\n",
    "\n",
    "Test To Use: Two-sample test, comparing the means of two independent groups\n",
    "\"\"\"\n",
    "\n",
    "import pandas as pd\n",
    "from scipy.stats import ttest_ind, mannwhitneyu\n",
    "\n",
    "brooklyn_data_pre = pd.read_excel('2018_brooklyn.xlsx')\n",
    "manhattan_data_pre = pd.read_excel('2018_manhattan.xlsx')\n",
    "\n",
    "print(brooklyn_data_pre.columns)\n",
    "\n",
    "combined_df = pd.read_csv('combined_sales.csv')\n",
    "\n",
    "brooklyn_data_post = combined_df[combined_df['BOROUGH'] == 3]\n",
    "manhattan_data_post = combined_df[combined_df['BOROUGH'] == 1]\n",
    "\n",
    "covid_start_date = pd.to_datetime('2021-01-01')\n",
    "\n",
    "brooklyn_pre = brooklyn_data_pre[brooklyn_data_pre['SALE DATE'] < covid_start_date]\n",
    "manhattan_pre = manhattan_data_pre[manhattan_data_pre['SALE DATE'] < covid_start_date]\n",
    "\n",
    "brooklyn_post = brooklyn_data_post[brooklyn_data_post['SALE DATE'] >= covid_start_date]\n",
    "manhattan_post = manhattan_data_post[manhattan_data_post['SALE DATE'] >= covid_start_date]\n",
    "\n",
    "prices_brooklyn_pre = brooklyn_pre['SALE PRICE']\n",
    "prices_manhattan_pre = manhattan_pre['SALE PRICE']\n",
    "\n",
    "prices_brooklyn_post = brooklyn_post['SALE PRICE']\n",
    "prices_manhattan_post = manhattan_post['SALE PRICE']\n",
    "\n",
    "t_stat, p_value_ttest = ttest_ind(prices_brooklyn_post, prices_manhattan_post)\n",
    "u_stat, p_value_mannwhitneyu = mannwhitneyu(prices_brooklyn_post, prices_manhattan_post)\n",
    "\n",
    "print(f'Two-Sample T-Test: t-statistic = {t_stat}, p-value = {p_value_ttest}')\n",
    "print(f'Mann-Whitney U Test: U-statistic = {u_stat}, p-value = {p_value_mannwhitneyu}')\n",
    "\n"
   ]
  },
  {
   "cell_type": "code",
   "execution_count": 20,
   "metadata": {},
   "outputs": [
    {
     "name": "stdout",
     "output_type": "stream",
     "text": [
      "Index(['BOROUGH\\n', 'NEIGHBORHOOD\\n', 'BUILDING CLASS CATEGORY\\n',\n",
      "       'TAX CLASS AS OF FINAL ROLL 18/19', 'BLOCK\\n', 'LOT\\n', 'EASE-MENT\\n',\n",
      "       'BUILDING CLASS AS OF FINAL ROLL 18/19', 'ADDRESS\\n',\n",
      "       'APARTMENT NUMBER\\n', 'ZIP CODE\\n', 'RESIDENTIAL UNITS\\n',\n",
      "       'COMMERCIAL UNITS\\n', 'TOTAL UNITS\\n', 'LAND SQUARE FEET\\n',\n",
      "       'GROSS SQUARE FEET\\n', 'YEAR BUILT\\n', 'TAX CLASS AT TIME OF SALE\\n',\n",
      "       'BUILDING CLASS AT TIME OF SALE\\n', 'SALE PRICE\\n', 'DATE\\n'],\n",
      "      dtype='object')\n"
     ]
    }
   ],
   "source": [
    "import pandas as pd\n",
    "\n",
    "# Read the original Excel file\n",
    "file_path = '2018_manhattan.xlsx'\n",
    "original_df = pd.read_excel(file_path, skiprows=4)\n",
    "\n",
    "# Keep only the date part of the 'DATE' column\n",
    "original_df['DATE\\n'] = pd.to_datetime(original_df['DATE\\n']).dt.date\n",
    "\n",
    "# Save the modified DataFrame to a new Excel file\n",
    "new_file_path = '2018_manhattan_modified.xlsx'\n",
    "original_df.to_excel(new_file_path, index=False)\n"
   ]
  }
 ],
 "metadata": {
  "kernelspec": {
   "display_name": "Python 3",
   "language": "python",
   "name": "python3"
  },
  "language_info": {
   "codemirror_mode": {
    "name": "ipython",
    "version": 3
   },
   "file_extension": ".py",
   "mimetype": "text/x-python",
   "name": "python",
   "nbconvert_exporter": "python",
   "pygments_lexer": "ipython3",
   "version": "3.11.0"
  }
 },
 "nbformat": 4,
 "nbformat_minor": 2
}
