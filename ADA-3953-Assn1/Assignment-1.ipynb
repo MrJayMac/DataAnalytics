{
 "cells": [
  {
   "cell_type": "code",
   "execution_count": 2,
   "metadata": {},
   "outputs": [
    {
     "name": "stdout",
     "output_type": "stream",
     "text": [
      "Requirement already satisfied: pandas in c:\\users\\joshu\\appdata\\local\\programs\\python\\python311\\lib\\site-packages (2.2.0)\n",
      "Requirement already satisfied: numpy<2,>=1.23.2 in c:\\users\\joshu\\appdata\\local\\programs\\python\\python311\\lib\\site-packages (from pandas) (1.26.1)\n",
      "Requirement already satisfied: python-dateutil>=2.8.2 in c:\\users\\joshu\\appdata\\local\\programs\\python\\python311\\lib\\site-packages (from pandas) (2.8.2)\n",
      "Requirement already satisfied: pytz>=2020.1 in c:\\users\\joshu\\appdata\\local\\programs\\python\\python311\\lib\\site-packages (from pandas) (2023.3.post1)\n",
      "Requirement already satisfied: tzdata>=2022.7 in c:\\users\\joshu\\appdata\\local\\programs\\python\\python311\\lib\\site-packages (from pandas) (2023.4)\n",
      "Requirement already satisfied: six>=1.5 in c:\\users\\joshu\\appdata\\local\\programs\\python\\python311\\lib\\site-packages (from python-dateutil>=2.8.2->pandas) (1.16.0)\n"
     ]
    },
    {
     "name": "stderr",
     "output_type": "stream",
     "text": [
      "\n",
      "[notice] A new release of pip available: 22.3 -> 23.3.2\n",
      "[notice] To update, run: python.exe -m pip install --upgrade pip\n"
     ]
    },
    {
     "name": "stdout",
     "output_type": "stream",
     "text": [
      "Requirement already satisfied: openpyxl in c:\\users\\joshu\\appdata\\local\\programs\\python\\python311\\lib\\site-packages (3.1.2)\n",
      "Requirement already satisfied: et-xmlfile in c:\\users\\joshu\\appdata\\local\\programs\\python\\python311\\lib\\site-packages (from openpyxl) (1.1.0)\n"
     ]
    },
    {
     "name": "stderr",
     "output_type": "stream",
     "text": [
      "\n",
      "[notice] A new release of pip available: 22.3 -> 23.3.2\n",
      "[notice] To update, run: python.exe -m pip install --upgrade pip\n"
     ]
    },
    {
     "name": "stdout",
     "output_type": "stream",
     "text": [
      "Requirement already satisfied: scipy in c:\\users\\joshu\\appdata\\local\\programs\\python\\python311\\lib\\site-packages (1.12.0)\n",
      "Requirement already satisfied: numpy<1.29.0,>=1.22.4 in c:\\users\\joshu\\appdata\\local\\programs\\python\\python311\\lib\\site-packages (from scipy) (1.26.1)\n"
     ]
    },
    {
     "name": "stderr",
     "output_type": "stream",
     "text": [
      "\n",
      "[notice] A new release of pip available: 22.3 -> 23.3.2\n",
      "[notice] To update, run: python.exe -m pip install --upgrade pip\n"
     ]
    },
    {
     "name": "stdout",
     "output_type": "stream",
     "text": [
      "Collecting statsmodels\n",
      "  Downloading statsmodels-0.14.1-cp311-cp311-win_amd64.whl (9.9 MB)\n",
      "     ---------------------------------------- 9.9/9.9 MB 3.6 MB/s eta 0:00:00\n",
      "Requirement already satisfied: numpy<2,>=1.18 in c:\\users\\joshu\\appdata\\local\\programs\\python\\python311\\lib\\site-packages (from statsmodels) (1.26.1)\n",
      "Requirement already satisfied: scipy!=1.9.2,>=1.4 in c:\\users\\joshu\\appdata\\local\\programs\\python\\python311\\lib\\site-packages (from statsmodels) (1.12.0)\n",
      "Requirement already satisfied: pandas!=2.1.0,>=1.0 in c:\\users\\joshu\\appdata\\local\\programs\\python\\python311\\lib\\site-packages (from statsmodels) (2.2.0)\n",
      "Collecting patsy>=0.5.4\n",
      "  Downloading patsy-0.5.6-py2.py3-none-any.whl (233 kB)\n",
      "     -------------------------------------- 233.9/233.9 kB 3.6 MB/s eta 0:00:00\n",
      "Requirement already satisfied: packaging>=21.3 in c:\\users\\joshu\\appdata\\local\\programs\\python\\python311\\lib\\site-packages (from statsmodels) (23.2)\n",
      "Requirement already satisfied: python-dateutil>=2.8.2 in c:\\users\\joshu\\appdata\\local\\programs\\python\\python311\\lib\\site-packages (from pandas!=2.1.0,>=1.0->statsmodels) (2.8.2)\n",
      "Requirement already satisfied: pytz>=2020.1 in c:\\users\\joshu\\appdata\\local\\programs\\python\\python311\\lib\\site-packages (from pandas!=2.1.0,>=1.0->statsmodels) (2023.3.post1)\n",
      "Requirement already satisfied: tzdata>=2022.7 in c:\\users\\joshu\\appdata\\local\\programs\\python\\python311\\lib\\site-packages (from pandas!=2.1.0,>=1.0->statsmodels) (2023.4)\n",
      "Requirement already satisfied: six in c:\\users\\joshu\\appdata\\local\\programs\\python\\python311\\lib\\site-packages (from patsy>=0.5.4->statsmodels) (1.16.0)\n",
      "Installing collected packages: patsy, statsmodels\n",
      "Successfully installed patsy-0.5.6 statsmodels-0.14.1\n"
     ]
    },
    {
     "name": "stderr",
     "output_type": "stream",
     "text": [
      "\n",
      "[notice] A new release of pip available: 22.3 -> 23.3.2\n",
      "[notice] To update, run: python.exe -m pip install --upgrade pip\n"
     ]
    }
   ],
   "source": [
    "!pip install pandas\n",
    "!pip install openpyxl\n",
    "!pip install scipy\n",
    "!pip install statsmodels"
   ]
  },
  {
   "cell_type": "code",
   "execution_count": 30,
   "metadata": {},
   "outputs": [],
   "source": [
    "import pandas as pd\n",
    "import os\n",
    "\n",
    "excel_files = os.path.join(os.getcwd(), 'data')\n",
    "combined_df = pd.DataFrame()\n",
    "\n",
    "for file_name in os.listdir(excel_files):\n",
    "    if file_name.endswith('.xlsx'):\n",
    "        file_path = os.path.join(excel_files, file_name)\n",
    "\n",
    "        df_borough = pd.read_excel(file_path, header=None, skiprows=7)\n",
    "        df_borough.columns = [\n",
    "            \"BOROUGH\", \"NEIGHBORHOOD\", \"BUILDING CLASS CATEGORY\", \"TAX CLASS AT PRESENT\", \"BLOCK\", \n",
    "            \"LOT\", \"EASEMENT\", \"BUILDING CLASS AT PRESENT\", \"ADDRESS\", \"APARTMENT NUMBER\", \n",
    "            \"ZIP CODE\", \"RESIDENTIAL UNITS\", \"COMMERCIAL UNITS\", \"TOTAL UNITS\", \"LAND SQUARE FEET\", \n",
    "            \"GROSS SQUARE FEET\", \"YEAR BUILT\", \"TAX CLASS AT TIME OF SALE\", \n",
    "            \"BUILDING CLASS AT TIME OF SALE\", \"SALE PRICE\", \"SALE DATE\"\n",
    "        ]\n",
    "\n",
    "        year = int(file_name.split('_')[0])\n",
    "        df_borough['Year'] = year\n",
    "        combined_df = pd.concat([combined_df, df_borough], ignore_index=True)\n",
    "\n",
    "combined_df.to_csv('combined_sales.csv', index=False)"
   ]
  },
  {
   "cell_type": "code",
   "execution_count": 33,
   "metadata": {},
   "outputs": [
    {
     "name": "stdout",
     "output_type": "stream",
     "text": [
      "\n",
      "Statistics of House Prices for Each Borough:\n",
      "                count          mean           std  min       25%       50%  \\\n",
      "BOROUGH Year                                                                 \n",
      "1.0     2021  22756.0  3.021417e+06  1.566200e+07  0.0  462000.0  965000.0   \n",
      "        2022  21787.0  3.293709e+06  2.267137e+07  0.0  410000.0  937500.0   \n",
      "        2023  16269.0  2.805843e+06  1.325977e+07  0.0  365000.0  930000.0   \n",
      "2.0     2021   7692.0  8.173122e+05  3.377169e+06  0.0       0.0  350000.0   \n",
      "        2022   7300.0  8.793488e+05  3.857280e+06  0.0       0.0  360718.0   \n",
      "        2023   5604.0  7.998377e+05  3.836253e+06  0.0       0.0  280000.0   \n",
      "3.0     2021  28965.0  1.244181e+06  4.581395e+06  0.0       0.0  640000.0   \n",
      "        2022  26855.0  1.267161e+06  5.429963e+06  0.0       0.0  635000.0   \n",
      "        2023  20304.0  1.064308e+06  4.216937e+06  0.0       0.0  498232.5   \n",
      "4.0     2021  29812.0  7.225875e+05  3.080978e+06  0.0       0.0  411323.0   \n",
      "        2022  28840.0  1.357098e+06  1.050302e+07  0.0       0.0  411173.5   \n",
      "        2023  22896.0  7.279627e+05  3.401910e+06  0.0       0.0  352000.0   \n",
      "5.0     2021   9865.0  5.923492e+05  1.556194e+06  0.0       0.0  499999.0   \n",
      "        2022   8645.0  5.511288e+05  1.400953e+06  0.0       0.0  511161.0   \n",
      "        2023   6750.0  4.511293e+05  8.176507e+05  0.0       0.0  418500.0   \n",
      "\n",
      "                    75%           max  \n",
      "BOROUGH Year                           \n",
      "1.0     2021  2137500.0  1.033000e+09  \n",
      "        2022  2200000.0  9.310000e+08  \n",
      "        2023  2200000.0  5.981558e+08  \n",
      "2.0     2021   700000.0  1.190000e+08  \n",
      "        2022   750000.0  1.073571e+08  \n",
      "        2023   710000.0  1.037419e+08  \n",
      "3.0     2021  1200000.0  2.567950e+08  \n",
      "        2022  1272110.5  2.284476e+08  \n",
      "        2023  1150000.0  3.177926e+08  \n",
      "4.0     2021   805000.0  1.320000e+08  \n",
      "        2022   849000.0  1.760000e+08  \n",
      "        2023   800000.0  3.177926e+08  \n",
      "5.0     2021   680000.0  5.870000e+07  \n",
      "        2022   725000.0  5.700000e+07  \n",
      "        2023   690000.0  4.200000e+07  \n"
     ]
    }
   ],
   "source": [
    "#3) Q1 House price of each borough\n",
    "combined_df = pd.read_csv('combined_sales.csv')\n",
    "combined_df['SALE PRICE'] = pd.to_numeric(combined_df['SALE PRICE'], errors='coerce')\n",
    "borough_stats = combined_df.groupby(['BOROUGH', 'Year'])['SALE PRICE'].describe()\n",
    "\n",
    "print(\"\\nStatistics of House Prices for Each Borough:\")\n",
    "print(borough_stats)\n"
   ]
  },
  {
   "cell_type": "code",
   "execution_count": 37,
   "metadata": {},
   "outputs": [
    {
     "name": "stdout",
     "output_type": "stream",
     "text": [
      "Types of Houses Involved in the Dataset:\n",
      "nan\n",
      "01 ONE FAMILY DWELLINGS\n",
      "02 TWO FAMILY DWELLINGS\n",
      "03 THREE FAMILY DWELLINGS\n",
      "05 TAX CLASS 1 VACANT LAND\n",
      "08 RENTALS - ELEVATOR APARTMENTS\n",
      "10 COOPS - ELEVATOR APARTMENTS\n",
      "21 OFFICE BUILDINGS\n",
      "22 STORE BUILDINGS\n",
      "26 OTHER HOTELS\n",
      "27 FACTORIES\n",
      "29 COMMERCIAL GARAGES\n",
      "30 WAREHOUSES\n",
      "31 COMMERCIAL VACANT LAND\n",
      "41 TAX CLASS 4 - OTHER\n",
      "04 TAX CLASS 1 CONDOS\n",
      "06 TAX CLASS 1 - OTHER\n",
      "07 RENTALS - WALKUP APARTMENTS\n",
      "14 RENTALS - 4-10 UNIT\n",
      "39 TRANSPORTATION FACILITIES\n",
      "09 COOPS - WALKUP APARTMENTS\n",
      "12 CONDOS - WALKUP APARTMENTS\n",
      "43 CONDO OFFICE BUILDINGS\n",
      "13 CONDOS - ELEVATOR APARTMENTS\n",
      "32 HOSPITAL AND HEALTH FACILITIES\n",
      "37 RELIGIOUS FACILITIES\n",
      "38 ASYLUMS AND HOMES\n",
      "46 CONDO STORE BUILDINGS\n",
      "28 COMMERCIAL CONDOS\n",
      "36 OUTDOOR RECREATIONAL FACILITIES\n",
      "35 INDOOR PUBLIC AND CULTURAL FACILITIES\n",
      "42 CONDO CULTURAL/MEDICAL/EDUCATIONAL/ETC\n",
      "33 EDUCATIONAL FACILITIES\n",
      "44 CONDO PARKING\n",
      "17 CONDO COOPS\n",
      "47 CONDO NON-BUSINESS STORAGE\n",
      "11 SPECIAL CONDO BILLING LOTS\n",
      "15 CONDOS - 2-10 UNIT RESIDENTIAL\n",
      "16 CONDOS - 2-10 UNIT WITH COMMERCIAL UNIT\n",
      "48 CONDO TERRACES/GARDENS/CABANAS\n",
      "45 CONDO HOTELS\n",
      "25 LUXURY HOTELS\n",
      "34 THEATRES\n",
      "49 CONDO WAREHOUSES/FACTORY/INDUS\n",
      "40 SELECTED GOVERNMENTAL FACILITIES\n"
     ]
    }
   ],
   "source": [
    "#3) Q1 Types of houses involved in the dataset\n",
    "house_types = combined_df['BUILDING CLASS CATEGORY'].unique()\n",
    "\n",
    "print(\"Types of Houses Involved in the Dataset:\")\n",
    "for house_type in house_types:\n",
    "    print(house_type)"
   ]
  },
  {
   "cell_type": "code",
   "execution_count": 36,
   "metadata": {},
   "outputs": [
    {
     "name": "stdout",
     "output_type": "stream",
     "text": [
      "Missing Values in the Combined Dataset:\n",
      "BOROUGH                               10\n",
      "NEIGHBORHOOD                          10\n",
      "BUILDING CLASS CATEGORY               10\n",
      "TAX CLASS AT PRESENT                 357\n",
      "BLOCK                                 10\n",
      "LOT                                   10\n",
      "EASEMENT                          264350\n",
      "BUILDING CLASS AT PRESENT            357\n",
      "ADDRESS                               10\n",
      "APARTMENT NUMBER                  198893\n",
      "ZIP CODE                              27\n",
      "RESIDENTIAL UNITS                  64191\n",
      "COMMERCIAL UNITS                  113754\n",
      "TOTAL UNITS                        55937\n",
      "LAND SQUARE FEET                  122008\n",
      "GROSS SQUARE FEET                 122008\n",
      "YEAR BUILT                         18017\n",
      "TAX CLASS AT TIME OF SALE             10\n",
      "BUILDING CLASS AT TIME OF SALE        10\n",
      "SALE PRICE                            10\n",
      "SALE DATE                             10\n",
      "Year                                   0\n",
      "dtype: int64\n"
     ]
    }
   ],
   "source": [
    "#3) Q1 Missing values in provided dataset\n",
    "missing_values = combined_df.isnull().sum()\n",
    "\n",
    "print(\"Missing Values in the Combined Dataset:\")\n",
    "print(missing_values)\n"
   ]
  },
  {
   "cell_type": "markdown",
   "metadata": {},
   "source": [
    "#3) Q2 Post COVID-19 Question 1\n",
    "Question: Are there significant differences in average house prices between the two boroughs before and after the COVID-19?\n",
    "\n",
    "Why This Question: Due to COVID-19, there has been a lot of changes to the world especially house prices. By understanding if the changes are significant, we are provided more insight\n",
    "that helps us decide whether we need to make adjustments\n",
    "\n",
    "Null Hypothesis, H0: There is no significant change in average house prices between the selected boroughs before and after COVID-19\n",
    "Alternative Hypothesis, H1: There is a significant change in average house prices between the selected boroughs before and after COVID-19\n",
    "\n",
    "Test To Use: Two-sample test, comparing the means of two independent groups which are average house prices for Brooklyn and Manhattan before and after Covid-19\n",
    "\n",
    "Results: There are significant differences in average house prices between the two boroughs which we can confirm from the p-value being 0 and the t-statistic suggest a substantial difference between the average house prices in Brooklyn and Manhattan after COVID-19. Thus, there is enough evidence to prove the alternative hypothsis, H1."
   ]
  },
  {
   "cell_type": "code",
   "execution_count": 31,
   "metadata": {},
   "outputs": [
    {
     "name": "stdout",
     "output_type": "stream",
     "text": [
      "Two-Sample T-Test: t-statistic = -27.309863218891614, p-value = 8.934047313102915e-164\n",
      "Mann-Whitney U Test: U-statistic = 1704360963.0, p-value = 0.0\n"
     ]
    }
   ],
   "source": [
    "#3) Q2 Post COVID-19 Question 1\n",
    "\n",
    "import pandas as pd\n",
    "from scipy.stats import ttest_ind, mannwhitneyu\n",
    "\n",
    "brooklyn_data_pre = pd.read_excel('2018_brooklyn.xlsx')\n",
    "manhattan_data_pre = pd.read_excel('2018_manhattan.xlsx')\n",
    "combined_df = pd.read_csv('combined_sales.csv')\n",
    "\n",
    "brooklyn_data_pre.columns = brooklyn_data_pre.columns.str.strip()\n",
    "manhattan_data_pre.columns = manhattan_data_pre.columns.str.strip()\n",
    "combined_df.columns = combined_df.columns.str.strip()\n",
    "\n",
    "brooklyn_data_post = combined_df[combined_df['BOROUGH'] == 3].copy()\n",
    "manhattan_data_post = combined_df[combined_df['BOROUGH'] == 1].copy()\n",
    "\n",
    "brooklyn_data_post['SALE DATE'] = pd.to_datetime(brooklyn_data_post['SALE DATE'])\n",
    "manhattan_data_post['SALE DATE'] = pd.to_datetime(manhattan_data_post['SALE DATE'])\n",
    "\n",
    "covid_start_date = pd.to_datetime('2021-01-01')\n",
    "\n",
    "brooklyn_pre = brooklyn_data_pre[brooklyn_data_pre['SALE DATE'] < covid_start_date]\n",
    "manhattan_pre = manhattan_data_pre[manhattan_data_pre['SALE DATE'] < covid_start_date]\n",
    "\n",
    "brooklyn_post = brooklyn_data_post[brooklyn_data_post['SALE DATE'] >= covid_start_date]\n",
    "manhattan_post = manhattan_data_post[manhattan_data_post['SALE DATE'] >= covid_start_date]\n",
    "\n",
    "prices_brooklyn_pre = brooklyn_pre['SALE PRICE']\n",
    "prices_manhattan_pre = manhattan_pre['SALE PRICE']\n",
    "\n",
    "prices_brooklyn_post = brooklyn_post['SALE PRICE']\n",
    "prices_manhattan_post = manhattan_post['SALE PRICE']\n",
    "\n",
    "t_stat, p_value_ttest = ttest_ind(prices_brooklyn_post, prices_manhattan_post)\n",
    "u_stat, p_value_mannwhitneyu = mannwhitneyu(prices_brooklyn_post, prices_manhattan_post)\n",
    "\n",
    "print(f'Two-Sample T-Test: t-statistic = {t_stat}, p-value = {p_value_ttest}')\n",
    "print(f'Mann-Whitney U Test: U-statistic = {u_stat}, p-value = {p_value_mannwhitneyu}')\n"
   ]
  },
  {
   "cell_type": "markdown",
   "metadata": {},
   "source": [
    "#3) Q2 Post COVID-19 Question 2\n",
    "\n",
    "Question: Is there a correlation between the recovery of house prices and the year built for properties in the two individual boroughs post COVID-19\n",
    "\n",
    "Why This Question: This question would help understand the relationship between the house prices and age of properties. This will help gain insight into how newer or older properties are affect with COVID-19.\n",
    "\n",
    "Null Hypothesis, H0: There is no significant correlation between the house prices and the year built for properties after COVID-19\n",
    "Alternative Hypothesis, H1: There is a signification correlation between the house prices and the year built for properties after COVID-19\n",
    "\n",
    "Test To Use: Regression Analysis would be a good test to examine the correlation between the house prices and the year built. We can identify negative or positive trends as well as quantify how the year built which is our independent variable is associated with the house prices which is our dependent variable.\n",
    "\n",
    "Results: There is evidence to suggest that there is a correlation between the house prices and the year built for properties in the selected boroughs after COVID-19. This is because there is a positive coefficient for the independent variable, Year Built, which means there is a positive correlation between the dependent variable, Sale Price. Since there is a P-value is close to 0.000, we can suggest a significant relationship. Thus, this test proves the alternative hypothsis, H1.\n"
   ]
  },
  {
   "cell_type": "code",
   "execution_count": 13,
   "metadata": {},
   "outputs": [
    {
     "name": "stdout",
     "output_type": "stream",
     "text": [
      "                            OLS Regression Results                            \n",
      "==============================================================================\n",
      "Dep. Variable:             SALE PRICE   R-squared:                       0.001\n",
      "Model:                            OLS   Adj. R-squared:                  0.001\n",
      "Method:                 Least Squares   F-statistic:                     130.4\n",
      "Date:                Thu, 25 Jan 2024   Prob (F-statistic):           3.49e-30\n",
      "Time:                        04:13:56   Log-Likelihood:            -2.2287e+06\n",
      "No. Observations:              125366   AIC:                         4.457e+06\n",
      "Df Residuals:                  125364   BIC:                         4.457e+06\n",
      "Df Model:                           1                                         \n",
      "Covariance Type:            nonrobust                                         \n",
      "==============================================================================\n",
      "                 coef    std err          t      P>|t|      [0.025      0.975]\n",
      "------------------------------------------------------------------------------\n",
      "const      -1.788e+07   1.74e+06    -10.277      0.000   -2.13e+07   -1.45e+07\n",
      "YEAR BUILT  1.018e+04    891.309     11.419      0.000    8430.590    1.19e+04\n",
      "==============================================================================\n",
      "Omnibus:                   369610.679   Durbin-Watson:                   1.087\n",
      "Prob(Omnibus):                  0.000   Jarque-Bera (JB):      34483089316.831\n",
      "Skew:                          41.911   Prob(JB):                         0.00\n",
      "Kurtosis:                    2570.956   Cond. No.                     9.45e+04\n",
      "==============================================================================\n",
      "\n",
      "Notes:\n",
      "[1] Standard Errors assume that the covariance matrix of the errors is correctly specified.\n",
      "[2] The condition number is large, 9.45e+04. This might indicate that there are\n",
      "strong multicollinearity or other numerical problems.\n"
     ]
    }
   ],
   "source": [
    "#3) Q2 Post COVID-19 Question 2\n",
    "\n",
    "import pandas as pd\n",
    "import statsmodels.api as sm\n",
    "\n",
    "combined_df = pd.read_csv('combined_sales.csv')\n",
    "\n",
    "selected_boroughs = [1, 3] \n",
    "filtered_data = combined_df[combined_df['BOROUGH'].isin(selected_boroughs)]\n",
    "filtered_data = filtered_data[filtered_data['SALE DATE'] >= '2021-01-01']\n",
    "\n",
    "independent_variable = 'YEAR BUILT'\n",
    "dependent_variable = 'SALE PRICE'\n",
    "\n",
    "filtered_data = filtered_data.dropna(subset=[independent_variable, dependent_variable])\n",
    "\n",
    "X = filtered_data[independent_variable]\n",
    "y = filtered_data[dependent_variable]\n",
    "\n",
    "X = sm.add_constant(X)\n",
    "\n",
    "model = sm.OLS(y, X).fit()\n",
    "\n",
    "print(model.summary())\n"
   ]
  },
  {
   "cell_type": "code",
   "execution_count": null,
   "metadata": {},
   "outputs": [],
   "source": []
  }
 ],
 "metadata": {
  "kernelspec": {
   "display_name": "Python 3",
   "language": "python",
   "name": "python3"
  },
  "language_info": {
   "codemirror_mode": {
    "name": "ipython",
    "version": 3
   },
   "file_extension": ".py",
   "mimetype": "text/x-python",
   "name": "python",
   "nbconvert_exporter": "python",
   "pygments_lexer": "ipython3",
   "version": "3.11.0"
  }
 },
 "nbformat": 4,
 "nbformat_minor": 2
}
