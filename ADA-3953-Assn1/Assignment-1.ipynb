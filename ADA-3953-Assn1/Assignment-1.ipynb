{
 "cells": [
  {
   "cell_type": "code",
   "execution_count": 5,
   "metadata": {},
   "outputs": [
    {
     "name": "stdout",
     "output_type": "stream",
     "text": [
      "Requirement already satisfied: pandas in c:\\users\\joshu\\appdata\\local\\programs\\python\\python311\\lib\\site-packages (2.2.0)\n",
      "Requirement already satisfied: numpy<2,>=1.23.2 in c:\\users\\joshu\\appdata\\local\\programs\\python\\python311\\lib\\site-packages (from pandas) (1.26.1)\n",
      "Requirement already satisfied: python-dateutil>=2.8.2 in c:\\users\\joshu\\appdata\\local\\programs\\python\\python311\\lib\\site-packages (from pandas) (2.8.2)\n",
      "Requirement already satisfied: pytz>=2020.1 in c:\\users\\joshu\\appdata\\local\\programs\\python\\python311\\lib\\site-packages (from pandas) (2023.3.post1)\n",
      "Requirement already satisfied: tzdata>=2022.7 in c:\\users\\joshu\\appdata\\local\\programs\\python\\python311\\lib\\site-packages (from pandas) (2023.4)\n",
      "Requirement already satisfied: six>=1.5 in c:\\users\\joshu\\appdata\\local\\programs\\python\\python311\\lib\\site-packages (from python-dateutil>=2.8.2->pandas) (1.16.0)\n"
     ]
    },
    {
     "name": "stderr",
     "output_type": "stream",
     "text": [
      "\n",
      "[notice] A new release of pip available: 22.3 -> 23.3.2\n",
      "[notice] To update, run: python.exe -m pip install --upgrade pip\n"
     ]
    },
    {
     "name": "stdout",
     "output_type": "stream",
     "text": [
      "Collecting openpyxl\n",
      "  Downloading openpyxl-3.1.2-py2.py3-none-any.whl (249 kB)\n",
      "     -------------------------------------- 250.0/250.0 kB 5.1 MB/s eta 0:00:00\n",
      "Collecting et-xmlfile\n",
      "  Downloading et_xmlfile-1.1.0-py3-none-any.whl (4.7 kB)\n",
      "Installing collected packages: et-xmlfile, openpyxl\n",
      "Successfully installed et-xmlfile-1.1.0 openpyxl-3.1.2\n"
     ]
    },
    {
     "name": "stderr",
     "output_type": "stream",
     "text": [
      "\n",
      "[notice] A new release of pip available: 22.3 -> 23.3.2\n",
      "[notice] To update, run: python.exe -m pip install --upgrade pip\n"
     ]
    }
   ],
   "source": [
    "!pip install pandas\n",
    "!pip install openpyxl"
   ]
  },
  {
   "cell_type": "code",
   "execution_count": 30,
   "metadata": {},
   "outputs": [],
   "source": [
    "import pandas as pd\n",
    "import os\n",
    "\n",
    "excel_files = os.path.join(os.path.expanduser('~'), 'Downloads', 'data')\n",
    "combined_df = pd.DataFrame()\n",
    "\n",
    "for file_name in os.listdir(excel_files):\n",
    "    if file_name.endswith('.xlsx'):\n",
    "        file_path = os.path.join(excel_files, file_name)\n",
    "\n",
    "        df_borough = pd.read_excel(file_path, header=None, skiprows=7)\n",
    "        df_borough.columns = [\n",
    "            \"BOROUGH\", \"NEIGHBORHOOD\", \"BUILDING CLASS CATEGORY\", \"TAX CLASS AT PRESENT\", \"BLOCK\", \n",
    "            \"LOT\", \"EASEMENT\", \"BUILDING CLASS AT PRESENT\", \"ADDRESS\", \"APARTMENT NUMBER\", \n",
    "            \"ZIP CODE\", \"RESIDENTIAL UNITS\", \"COMMERCIAL UNITS\", \"TOTAL UNITS\", \"LAND SQUARE FEET\", \n",
    "            \"GROSS SQUARE FEET\", \"YEAR BUILT\", \"TAX CLASS AT TIME OF SALE\", \n",
    "            \"BUILDING CLASS AT TIME OF SALE\", \"SALE PRICE\", \"SALE DATE\"\n",
    "        ]\n",
    "\n",
    "        year = int(file_name.split('_')[0])\n",
    "        df_borough['Year'] = year\n",
    "        combined_df = pd.concat([combined_df, df_borough], ignore_index=True)\n",
    "\n",
    "combined_df.to_csv('combined_sales.csv', index=False)"
   ]
  },
  {
   "cell_type": "code",
   "execution_count": 33,
   "metadata": {},
   "outputs": [
    {
     "name": "stdout",
     "output_type": "stream",
     "text": [
      "\n",
      "Statistics of House Prices for Each Borough:\n",
      "                count          mean           std  min       25%       50%  \\\n",
      "BOROUGH Year                                                                 \n",
      "1.0     2021  22756.0  3.021417e+06  1.566200e+07  0.0  462000.0  965000.0   \n",
      "        2022  21787.0  3.293709e+06  2.267137e+07  0.0  410000.0  937500.0   \n",
      "        2023  16269.0  2.805843e+06  1.325977e+07  0.0  365000.0  930000.0   \n",
      "2.0     2021   7692.0  8.173122e+05  3.377169e+06  0.0       0.0  350000.0   \n",
      "        2022   7300.0  8.793488e+05  3.857280e+06  0.0       0.0  360718.0   \n",
      "        2023   5604.0  7.998377e+05  3.836253e+06  0.0       0.0  280000.0   \n",
      "3.0     2021  28965.0  1.244181e+06  4.581395e+06  0.0       0.0  640000.0   \n",
      "        2022  26855.0  1.267161e+06  5.429963e+06  0.0       0.0  635000.0   \n",
      "        2023  20304.0  1.064308e+06  4.216937e+06  0.0       0.0  498232.5   \n",
      "4.0     2021  29812.0  7.225875e+05  3.080978e+06  0.0       0.0  411323.0   \n",
      "        2022  28840.0  1.357098e+06  1.050302e+07  0.0       0.0  411173.5   \n",
      "        2023  22896.0  7.279627e+05  3.401910e+06  0.0       0.0  352000.0   \n",
      "5.0     2021   9865.0  5.923492e+05  1.556194e+06  0.0       0.0  499999.0   \n",
      "        2022   8645.0  5.511288e+05  1.400953e+06  0.0       0.0  511161.0   \n",
      "        2023   6750.0  4.511293e+05  8.176507e+05  0.0       0.0  418500.0   \n",
      "\n",
      "                    75%           max  \n",
      "BOROUGH Year                           \n",
      "1.0     2021  2137500.0  1.033000e+09  \n",
      "        2022  2200000.0  9.310000e+08  \n",
      "        2023  2200000.0  5.981558e+08  \n",
      "2.0     2021   700000.0  1.190000e+08  \n",
      "        2022   750000.0  1.073571e+08  \n",
      "        2023   710000.0  1.037419e+08  \n",
      "3.0     2021  1200000.0  2.567950e+08  \n",
      "        2022  1272110.5  2.284476e+08  \n",
      "        2023  1150000.0  3.177926e+08  \n",
      "4.0     2021   805000.0  1.320000e+08  \n",
      "        2022   849000.0  1.760000e+08  \n",
      "        2023   800000.0  3.177926e+08  \n",
      "5.0     2021   680000.0  5.870000e+07  \n",
      "        2022   725000.0  5.700000e+07  \n",
      "        2023   690000.0  4.200000e+07  \n"
     ]
    }
   ],
   "source": [
    "#3) Q1 House price of each borough\n",
    "combined_df = pd.read_csv('combined_sales.csv')\n",
    "combined_df['SALE PRICE'] = pd.to_numeric(combined_df['SALE PRICE'], errors='coerce')\n",
    "borough_stats = combined_df.groupby(['BOROUGH', 'Year'])['SALE PRICE'].describe()\n",
    "\n",
    "print(\"\\nStatistics of House Prices for Each Borough:\")\n",
    "print(borough_stats)\n"
   ]
  },
  {
   "cell_type": "code",
   "execution_count": 37,
   "metadata": {},
   "outputs": [
    {
     "name": "stdout",
     "output_type": "stream",
     "text": [
      "Types of Houses Involved in the Dataset:\n",
      "nan\n",
      "01 ONE FAMILY DWELLINGS\n",
      "02 TWO FAMILY DWELLINGS\n",
      "03 THREE FAMILY DWELLINGS\n",
      "05 TAX CLASS 1 VACANT LAND\n",
      "08 RENTALS - ELEVATOR APARTMENTS\n",
      "10 COOPS - ELEVATOR APARTMENTS\n",
      "21 OFFICE BUILDINGS\n",
      "22 STORE BUILDINGS\n",
      "26 OTHER HOTELS\n",
      "27 FACTORIES\n",
      "29 COMMERCIAL GARAGES\n",
      "30 WAREHOUSES\n",
      "31 COMMERCIAL VACANT LAND\n",
      "41 TAX CLASS 4 - OTHER\n",
      "04 TAX CLASS 1 CONDOS\n",
      "06 TAX CLASS 1 - OTHER\n",
      "07 RENTALS - WALKUP APARTMENTS\n",
      "14 RENTALS - 4-10 UNIT\n",
      "39 TRANSPORTATION FACILITIES\n",
      "09 COOPS - WALKUP APARTMENTS\n",
      "12 CONDOS - WALKUP APARTMENTS\n",
      "43 CONDO OFFICE BUILDINGS\n",
      "13 CONDOS - ELEVATOR APARTMENTS\n",
      "32 HOSPITAL AND HEALTH FACILITIES\n",
      "37 RELIGIOUS FACILITIES\n",
      "38 ASYLUMS AND HOMES\n",
      "46 CONDO STORE BUILDINGS\n",
      "28 COMMERCIAL CONDOS\n",
      "36 OUTDOOR RECREATIONAL FACILITIES\n",
      "35 INDOOR PUBLIC AND CULTURAL FACILITIES\n",
      "42 CONDO CULTURAL/MEDICAL/EDUCATIONAL/ETC\n",
      "33 EDUCATIONAL FACILITIES\n",
      "44 CONDO PARKING\n",
      "17 CONDO COOPS\n",
      "47 CONDO NON-BUSINESS STORAGE\n",
      "11 SPECIAL CONDO BILLING LOTS\n",
      "15 CONDOS - 2-10 UNIT RESIDENTIAL\n",
      "16 CONDOS - 2-10 UNIT WITH COMMERCIAL UNIT\n",
      "48 CONDO TERRACES/GARDENS/CABANAS\n",
      "45 CONDO HOTELS\n",
      "25 LUXURY HOTELS\n",
      "34 THEATRES\n",
      "49 CONDO WAREHOUSES/FACTORY/INDUS\n",
      "40 SELECTED GOVERNMENTAL FACILITIES\n"
     ]
    }
   ],
   "source": [
    "#3) Q1 Types of houses involved in the dataset\n",
    "house_types = combined_df['BUILDING CLASS CATEGORY'].unique()\n",
    "\n",
    "print(\"Types of Houses Involved in the Dataset:\")\n",
    "for house_type in house_types:\n",
    "    print(house_type)"
   ]
  },
  {
   "cell_type": "code",
   "execution_count": 36,
   "metadata": {},
   "outputs": [
    {
     "name": "stdout",
     "output_type": "stream",
     "text": [
      "Missing Values in the Combined Dataset:\n",
      "BOROUGH                               10\n",
      "NEIGHBORHOOD                          10\n",
      "BUILDING CLASS CATEGORY               10\n",
      "TAX CLASS AT PRESENT                 357\n",
      "BLOCK                                 10\n",
      "LOT                                   10\n",
      "EASEMENT                          264350\n",
      "BUILDING CLASS AT PRESENT            357\n",
      "ADDRESS                               10\n",
      "APARTMENT NUMBER                  198893\n",
      "ZIP CODE                              27\n",
      "RESIDENTIAL UNITS                  64191\n",
      "COMMERCIAL UNITS                  113754\n",
      "TOTAL UNITS                        55937\n",
      "LAND SQUARE FEET                  122008\n",
      "GROSS SQUARE FEET                 122008\n",
      "YEAR BUILT                         18017\n",
      "TAX CLASS AT TIME OF SALE             10\n",
      "BUILDING CLASS AT TIME OF SALE        10\n",
      "SALE PRICE                            10\n",
      "SALE DATE                             10\n",
      "Year                                   0\n",
      "dtype: int64\n"
     ]
    }
   ],
   "source": [
    "#3) Q1 Missing values in provided dataset\n",
    "missing_values = combined_df.isnull().sum()\n",
    "\n",
    "print(\"Missing Values in the Combined Dataset:\")\n",
    "print(missing_values)\n"
   ]
  }
 ],
 "metadata": {
  "kernelspec": {
   "display_name": "Python 3",
   "language": "python",
   "name": "python3"
  },
  "language_info": {
   "codemirror_mode": {
    "name": "ipython",
    "version": 3
   },
   "file_extension": ".py",
   "mimetype": "text/x-python",
   "name": "python",
   "nbconvert_exporter": "python",
   "pygments_lexer": "ipython3",
   "version": "3.11.0"
  }
 },
 "nbformat": 4,
 "nbformat_minor": 2
}
